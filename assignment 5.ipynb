{
 "cells": [
  {
   "cell_type": "code",
   "execution_count": null,
   "id": "5f3adb07-0b91-4c79-89cc-bada83ceea2a",
   "metadata": {},
   "outputs": [],
   "source": [
    "#1 What does an empty dictionary code look like?\n",
    "\"\"\"\n",
    "empty dictionary={}\n",
    "\"\"\""
   ]
  },
  {
   "cell_type": "code",
   "execution_count": 1,
   "id": "abfbc284-8342-46a0-8b36-4afc742c5dbb",
   "metadata": {
    "tags": []
   },
   "outputs": [
    {
     "ename": "SyntaxError",
     "evalue": "incomplete input (1439170435.py, line 2)",
     "output_type": "error",
     "traceback": [
      "\u001b[1;36m  Cell \u001b[1;32mIn[1], line 2\u001b[1;36m\u001b[0m\n\u001b[1;33m    \"\"\"\u001b[0m\n\u001b[1;37m    ^\u001b[0m\n\u001b[1;31mSyntaxError\u001b[0m\u001b[1;31m:\u001b[0m incomplete input\n"
     ]
    }
   ],
   "source": [
    "#2  What is the value of a dictionary value with the key 'foo' and the value 42?\n",
    "\"\"\"\n",
    "dictionary={'foo':42}\n",
    "\"\"\""
   ]
  },
  {
   "cell_type": "code",
   "execution_count": 3,
   "id": "af39b8bb-cd53-4454-8e23-de788c479551",
   "metadata": {
    "tags": []
   },
   "outputs": [
    {
     "ename": "SyntaxError",
     "evalue": "incomplete input (2178227629.py, line 2)",
     "output_type": "error",
     "traceback": [
      "\u001b[1;36m  Cell \u001b[1;32mIn[3], line 2\u001b[1;36m\u001b[0m\n\u001b[1;33m    \"\"\"\u001b[0m\n\u001b[1;37m    ^\u001b[0m\n\u001b[1;31mSyntaxError\u001b[0m\u001b[1;31m:\u001b[0m incomplete input\n"
     ]
    }
   ],
   "source": [
    "#3. What is the most significant distinction between a dictionary and a list?\n",
    "\"\"\"\n",
    "\n",
    "dictionary=It is the collection of unordered item and have pair of element, \n",
    "element are enclosed in curly bracess\n",
    "\n",
    "list= It is the collection of ordered item ,element are enclosed in square bracket\"\n",
    "\"\"\""
   ]
  },
  {
   "cell_type": "code",
   "execution_count": 4,
   "id": "d2b2473e-89f2-4d86-b045-a353ca20386b",
   "metadata": {
    "tags": []
   },
   "outputs": [
    {
     "ename": "SyntaxError",
     "evalue": "incomplete input (1926137880.py, line 2)",
     "output_type": "error",
     "traceback": [
      "\u001b[1;36m  Cell \u001b[1;32mIn[4], line 2\u001b[1;36m\u001b[0m\n\u001b[1;33m    \"\"\"\u001b[0m\n\u001b[1;37m    ^\u001b[0m\n\u001b[1;31mSyntaxError\u001b[0m\u001b[1;31m:\u001b[0m incomplete input\n"
     ]
    }
   ],
   "source": [
    "#4 What happens if you try to access spam['foo'] if spam is {'bar': 100}?\n",
    "\"\"\"\n",
    "it will give key error\n",
    "\"\"\""
   ]
  },
  {
   "cell_type": "code",
   "execution_count": null,
   "id": "73d95b67-0b15-4054-8d9f-d6620ffe6fba",
   "metadata": {},
   "outputs": [],
   "source": [
    "#5 If a dictionary is stored in spam, what is the difference between the expressions &#39;cat&#39; in spam and'cat' in spam.keys()?\n",
    "\"\"\"\n",
    "'cat' in spam checks whether there is a 'cat' key in the dictionary, while 'cat' in spam. \n",
    "keys() checks whether there is a key 'cat' for one of the value in spam.\n",
    "\"\"\""
   ]
  },
  {
   "cell_type": "code",
   "execution_count": null,
   "id": "818bf18f-ed2a-459a-9a3e-44037d652327",
   "metadata": {},
   "outputs": [],
   "source": [
    "#6. If a dictionary is stored in spam, what is the difference between the expressions 'cat' in spam and'cat' in spam.valus()?\n",
    "\"\"\"\n",
    "'cat' in spam checks whether there is a 'cat' key in the dictionary, while 'cat' in spam. \n",
    "values() checks whether there is a value 'cat' for one of the keys in spam."
   ]
  },
  {
   "cell_type": "code",
   "execution_count": null,
   "id": "99daf1e1-71f5-44ac-bcf1-67ffb8e70a1e",
   "metadata": {},
   "outputs": [],
   "source": [
    "#7What is a shortcut for the following code?\n",
    "\"\"\"\n",
    "if 'color' not in spam:\n",
    "spam['color'] = 'black'\n",
    "\n",
    "spam.setdefault('color','black')\n",
    "\"\"\""
   ]
  },
  {
   "cell_type": "code",
   "execution_count": null,
   "id": "5216732d-1cab-42fd-8b62-f08abbb1736a",
   "metadata": {},
   "outputs": [],
   "source": [
    "#8How do you 'pretty print'dictionary values using which module and function?\n",
    "\"\"\"\n",
    "If you import the pprint module into your programs,\n",
    "you'll have access to the pprint() and pformat() functions that will “pretty print” a dictionary's values. \n",
    "This is helpful when you want a cleaner display of the items in a dictionary than what print() provides.\n",
    "\"\"\""
   ]
  }
 ],
 "metadata": {
  "kernelspec": {
   "display_name": "Python 3 (ipykernel)",
   "language": "python",
   "name": "python3"
  },
  "language_info": {
   "codemirror_mode": {
    "name": "ipython",
    "version": 3
   },
   "file_extension": ".py",
   "mimetype": "text/x-python",
   "name": "python",
   "nbconvert_exporter": "python",
   "pygments_lexer": "ipython3",
   "version": "3.11.5"
  }
 },
 "nbformat": 4,
 "nbformat_minor": 5
}
